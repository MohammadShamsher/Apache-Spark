{
 "cells": [
  {
   "cell_type": "code",
   "execution_count": 1,
   "id": "d03e3c1a",
   "metadata": {},
   "outputs": [
    {
     "name": "stdout",
     "output_type": "stream",
     "text": [
      "+-----+\n",
      "|hello|\n",
      "+-----+\n",
      "|spark|\n",
      "+-----+\n",
      "\n"
     ]
    }
   ],
   "source": [
    "import findspark\n",
    "findspark.init()\n",
    "import pyspark\n",
    "from pyspark.sql import SparkSession\n",
    "spark=SparkSession.builder.getOrCreate()\n",
    "df=spark.sql(\"select 'spark' as hello\")\n",
    "df.show()"
   ]
  },
  {
   "cell_type": "markdown",
   "id": "d5568bab",
   "metadata": {},
   "source": [
    "First we have to make session SparkSession. It is an entry point to PySpark and creating a SparkSession instance \n",
    "would be the first statement you would write to program with RDD, DataFrame, and Dataset"
   ]
  },
  {
   "cell_type": "code",
   "execution_count": 3,
   "id": "b97e9a12",
   "metadata": {
    "scrolled": true
   },
   "outputs": [
    {
     "data": {
      "text/html": [
       "\n",
       "            <div>\n",
       "                <p><b>SparkSession - in-memory</b></p>\n",
       "                \n",
       "        <div>\n",
       "            <p><b>SparkContext</b></p>\n",
       "\n",
       "            <p><a href=\"http://10.29.72.88:4040\">Spark UI</a></p>\n",
       "\n",
       "            <dl>\n",
       "              <dt>Version</dt>\n",
       "                <dd><code>v3.0.3</code></dd>\n",
       "              <dt>Master</dt>\n",
       "                <dd><code>local[*]</code></dd>\n",
       "              <dt>AppName</dt>\n",
       "                <dd><code>pyspark-shell</code></dd>\n",
       "            </dl>\n",
       "        </div>\n",
       "        \n",
       "            </div>\n",
       "        "
      ],
      "text/plain": [
       "<pyspark.sql.session.SparkSession at 0x19a52f35dc0>"
      ]
     },
     "execution_count": 3,
     "metadata": {},
     "output_type": "execute_result"
    }
   ],
   "source": [
    "spark"
   ]
  },
  {
   "cell_type": "markdown",
   "id": "f9ee660b",
   "metadata": {},
   "source": [
    "# Loading Dataset"
   ]
  },
  {
   "cell_type": "code",
   "execution_count": 2,
   "id": "e1a40b66",
   "metadata": {
    "scrolled": false
   },
   "outputs": [
    {
     "name": "stdout",
     "output_type": "stream",
     "text": [
      "+--------+----+------+\n",
      "|    Name| Age|Weight|\n",
      "+--------+----+------+\n",
      "|Shamsher|  21|    66|\n",
      "|   irfan|  22|    55|\n",
      "| shapato|null|    77|\n",
      "|   jalal|  20|    80|\n",
      "+--------+----+------+\n",
      "\n"
     ]
    }
   ],
   "source": [
    "#infer schema means that print int columns as int bxc without this parameter it will bydefault consider all columns as string\n",
    "\n",
    "data=spark.read.csv(\"Practice.csv\",header=True,inferSchema=True)\n",
    "\n",
    "data.show()"
   ]
  },
  {
   "cell_type": "code",
   "execution_count": null,
   "id": "deb34e99",
   "metadata": {},
   "outputs": [],
   "source": []
  },
  {
   "cell_type": "markdown",
   "id": "2e5f749d",
   "metadata": {},
   "source": [
    "# checking data type of column"
   ]
  },
  {
   "cell_type": "code",
   "execution_count": 4,
   "id": "4431a6e8",
   "metadata": {
    "scrolled": true
   },
   "outputs": [
    {
     "name": "stdout",
     "output_type": "stream",
     "text": [
      "root\n",
      " |-- Name: string (nullable = true)\n",
      " |-- Age: integer (nullable = true)\n",
      " |-- Weight: integer (nullable = true)\n",
      "\n"
     ]
    }
   ],
   "source": [
    "## Checking info in pyspark\n",
    "\n",
    "data.printSchema()"
   ]
  },
  {
   "cell_type": "markdown",
   "id": "bbb34206",
   "metadata": {},
   "source": [
    "# checking type of data"
   ]
  },
  {
   "cell_type": "code",
   "execution_count": 5,
   "id": "4a67fdb0",
   "metadata": {},
   "outputs": [
    {
     "data": {
      "text/plain": [
       "pyspark.sql.dataframe.DataFrame"
      ]
     },
     "execution_count": 5,
     "metadata": {},
     "output_type": "execute_result"
    }
   ],
   "source": [
    "#check type of data\n",
    "\n",
    "type(data)"
   ]
  },
  {
   "cell_type": "code",
   "execution_count": 6,
   "id": "c80b6b58",
   "metadata": {},
   "outputs": [
    {
     "data": {
      "text/plain": [
       "[Row(Name='Shamsher', Age=21, Weight=66),\n",
       " Row(Name='irfan', Age=22, Weight=55),\n",
       " Row(Name='shapato', Age=None, Weight=77)]"
      ]
     },
     "execution_count": 6,
     "metadata": {},
     "output_type": "execute_result"
    }
   ],
   "source": [
    "data.head(3)"
   ]
  },
  {
   "cell_type": "markdown",
   "id": "951085f2",
   "metadata": {},
   "source": [
    "# Print Specific Column"
   ]
  },
  {
   "cell_type": "code",
   "execution_count": 7,
   "id": "509ead13",
   "metadata": {},
   "outputs": [
    {
     "name": "stdout",
     "output_type": "stream",
     "text": [
      "+--------+\n",
      "|    Name|\n",
      "+--------+\n",
      "|Shamsher|\n",
      "|   irfan|\n",
      "| shapato|\n",
      "|   jalal|\n",
      "+--------+\n",
      "\n"
     ]
    }
   ],
   "source": [
    "data.select(\"Name\").show()"
   ]
  },
  {
   "cell_type": "code",
   "execution_count": 8,
   "id": "03ddc70c",
   "metadata": {},
   "outputs": [
    {
     "name": "stdout",
     "output_type": "stream",
     "text": [
      "+--------+----+\n",
      "|    Name| Age|\n",
      "+--------+----+\n",
      "|Shamsher|  21|\n",
      "|   irfan|  22|\n",
      "| shapato|null|\n",
      "|   jalal|  20|\n",
      "+--------+----+\n",
      "\n"
     ]
    }
   ],
   "source": [
    "data.select([\"Name\",\"Age\"]).show()"
   ]
  },
  {
   "cell_type": "markdown",
   "id": "030aaa4b",
   "metadata": {},
   "source": [
    "# Checking Dtypes"
   ]
  },
  {
   "cell_type": "code",
   "execution_count": 9,
   "id": "7752b988",
   "metadata": {},
   "outputs": [
    {
     "data": {
      "text/plain": [
       "[('Name', 'string'), ('Age', 'int'), ('Weight', 'int')]"
      ]
     },
     "execution_count": 9,
     "metadata": {},
     "output_type": "execute_result"
    }
   ],
   "source": [
    "data.dtypes"
   ]
  },
  {
   "cell_type": "code",
   "execution_count": 10,
   "id": "63b0cf34",
   "metadata": {},
   "outputs": [
    {
     "name": "stdout",
     "output_type": "stream",
     "text": [
      "+-------+--------+----+------------------+\n",
      "|summary|    Name| Age|            Weight|\n",
      "+-------+--------+----+------------------+\n",
      "|  count|       4|   3|                 4|\n",
      "|   mean|    null|21.0|              69.5|\n",
      "| stddev|    null| 1.0|11.387127235025815|\n",
      "|    min|Shamsher|  20|                55|\n",
      "|    max| shapato|  22|                80|\n",
      "+-------+--------+----+------------------+\n",
      "\n"
     ]
    }
   ],
   "source": [
    "data.describe().show()"
   ]
  },
  {
   "cell_type": "markdown",
   "id": "26693f17",
   "metadata": {},
   "source": [
    "# Adding columns"
   ]
  },
  {
   "cell_type": "code",
   "execution_count": 11,
   "id": "7ecae9dc",
   "metadata": {},
   "outputs": [],
   "source": [
    "data=data.withColumn(\"New Age \",data[\"Age\"]+3)"
   ]
  },
  {
   "cell_type": "code",
   "execution_count": 12,
   "id": "3c5f14b4",
   "metadata": {
    "scrolled": false
   },
   "outputs": [
    {
     "name": "stdout",
     "output_type": "stream",
     "text": [
      "+--------+----+------+--------+\n",
      "|    Name| Age|Weight|New Age |\n",
      "+--------+----+------+--------+\n",
      "|Shamsher|  21|    66|      24|\n",
      "|   irfan|  22|    55|      25|\n",
      "| shapato|null|    77|    null|\n",
      "|   jalal|  20|    80|      23|\n",
      "+--------+----+------+--------+\n",
      "\n"
     ]
    }
   ],
   "source": [
    "data.show()"
   ]
  },
  {
   "cell_type": "markdown",
   "id": "03dc4335",
   "metadata": {},
   "source": [
    "To Add Column with constant Value"
   ]
  },
  {
   "cell_type": "code",
   "execution_count": 18,
   "id": "b020c854",
   "metadata": {},
   "outputs": [
    {
     "name": "stdout",
     "output_type": "stream",
     "text": [
      "+--------+----+------+--------+--------+\n",
      "|    Name| Age|Weight|New Age | Country|\n",
      "+--------+----+------+--------+--------+\n",
      "|Shamsher|  21|    66|      24|Pakistan|\n",
      "|   irfan|  22|    55|      25|Pakistan|\n",
      "| shapato|null|    77|    null|Pakistan|\n",
      "|   jalal|  20|    80|      23|Pakistan|\n",
      "+--------+----+------+--------+--------+\n",
      "\n"
     ]
    }
   ],
   "source": [
    "from pyspark.sql.functions import lit\n",
    "data=data.withColumn(\"Country\",lit(\"Pakistan\"))\n",
    "data.show()"
   ]
  },
  {
   "cell_type": "markdown",
   "id": "742f3700",
   "metadata": {},
   "source": [
    "# Drop a Column"
   ]
  },
  {
   "cell_type": "code",
   "execution_count": 61,
   "id": "04336961",
   "metadata": {},
   "outputs": [],
   "source": [
    "data=data.drop(\"Name\",\"Weight\")"
   ]
  },
  {
   "cell_type": "code",
   "execution_count": 62,
   "id": "9eebf27b",
   "metadata": {},
   "outputs": [
    {
     "name": "stdout",
     "output_type": "stream",
     "text": [
      "+----+\n",
      "| Age|\n",
      "+----+\n",
      "|  21|\n",
      "|  22|\n",
      "|null|\n",
      "|  20|\n",
      "+----+\n",
      "\n"
     ]
    }
   ],
   "source": [
    "data.show()"
   ]
  },
  {
   "cell_type": "markdown",
   "id": "3e6ffc90",
   "metadata": {},
   "source": [
    "# Rename Column"
   ]
  },
  {
   "cell_type": "code",
   "execution_count": 65,
   "id": "3f71424e",
   "metadata": {
    "scrolled": true
   },
   "outputs": [
    {
     "name": "stdout",
     "output_type": "stream",
     "text": [
      "+-------+\n",
      "|New Age|\n",
      "+-------+\n",
      "|     21|\n",
      "|     22|\n",
      "|   null|\n",
      "|     20|\n",
      "+-------+\n",
      "\n"
     ]
    }
   ],
   "source": [
    "data.withColumnRenamed(\"Age\",\"New Age\").show()\n",
    "\n",
    "data.toDf(\"New_name_1\",\"New_name_2\")"
   ]
  },
  {
   "cell_type": "markdown",
   "id": "8b1a61d4",
   "metadata": {},
   "source": [
    "# Counting Distinct Values in a column"
   ]
  },
  {
   "cell_type": "code",
   "execution_count": 39,
   "id": "ad2f977e",
   "metadata": {},
   "outputs": [
    {
     "name": "stdout",
     "output_type": "stream",
     "text": [
      "+--------------------+\n",
      "|count(DISTINCT Name)|\n",
      "+--------------------+\n",
      "|                   6|\n",
      "+--------------------+\n",
      "\n"
     ]
    }
   ],
   "source": [
    "from pyspark.sql.functions import countDistinct, avg, stddev,isnan\n",
    "\n",
    "data.select(countDistinct(\"Name\")).show()"
   ]
  },
  {
   "cell_type": "markdown",
   "id": "f162355f",
   "metadata": {},
   "source": [
    "# Checking For  Null Values"
   ]
  },
  {
   "cell_type": "code",
   "execution_count": 3,
   "id": "a31437be",
   "metadata": {
    "scrolled": true
   },
   "outputs": [
    {
     "name": "stdout",
     "output_type": "stream",
     "text": [
      "+--------+----+------+\n",
      "|    Name| Age|Weight|\n",
      "+--------+----+------+\n",
      "|Shamsher|  21|    66|\n",
      "|   irfan|  22|    55|\n",
      "| shapato|null|    77|\n",
      "|   jalal|  20|    80|\n",
      "+--------+----+------+\n",
      "\n"
     ]
    }
   ],
   "source": [
    "data=spark.read.csv(\"Practice.csv\",header=True,inferSchema=True)\n",
    "\n",
    "data.show()"
   ]
  },
  {
   "cell_type": "code",
   "execution_count": 9,
   "id": "33ee47af",
   "metadata": {},
   "outputs": [
    {
     "name": "stdout",
     "output_type": "stream",
     "text": [
      "+----+---+------+\n",
      "|Name|Age|Weight|\n",
      "+----+---+------+\n",
      "|   0|  1|     0|\n",
      "+----+---+------+\n",
      "\n"
     ]
    }
   ],
   "source": [
    "from pyspark.sql.functions import isnan, when, count, col\n",
    "\n",
    "data.select([count(when(col(c).isNull(), c)).alias(c) for c in data.columns]).show()"
   ]
  },
  {
   "cell_type": "code",
   "execution_count": null,
   "id": "80bcd561",
   "metadata": {},
   "outputs": [],
   "source": []
  },
  {
   "cell_type": "code",
   "execution_count": 52,
   "id": "08aadc18",
   "metadata": {},
   "outputs": [
    {
     "name": "stdout",
     "output_type": "stream",
     "text": [
      "+-------+----+------+\n",
      "|   Name| Age|Weight|\n",
      "+-------+----+------+\n",
      "|shapato|null|    77|\n",
      "+-------+----+------+\n",
      "\n"
     ]
    }
   ],
   "source": [
    "data.where(col(\"Age\").isNull()).show()"
   ]
  },
  {
   "cell_type": "code",
   "execution_count": null,
   "id": "b221acce",
   "metadata": {},
   "outputs": [],
   "source": []
  },
  {
   "cell_type": "code",
   "execution_count": 50,
   "id": "a51bfbf3",
   "metadata": {},
   "outputs": [
    {
     "data": {
      "text/plain": [
       "1"
      ]
     },
     "execution_count": 50,
     "metadata": {},
     "output_type": "execute_result"
    }
   ],
   "source": [
    "from pyspark.sql.functions import col\n",
    "data.filter(col(\"Age\").isNull()).count()"
   ]
  },
  {
   "cell_type": "code",
   "execution_count": 51,
   "id": "adc7e4b5",
   "metadata": {},
   "outputs": [
    {
     "data": {
      "text/plain": [
       "1"
      ]
     },
     "execution_count": 51,
     "metadata": {},
     "output_type": "execute_result"
    }
   ],
   "source": [
    "data.filter(data[\"Age\"].isNull()).count()"
   ]
  },
  {
   "cell_type": "code",
   "execution_count": null,
   "id": "7a0539ec",
   "metadata": {},
   "outputs": [],
   "source": []
  },
  {
   "cell_type": "markdown",
   "id": "aa89e27b",
   "metadata": {},
   "source": [
    "# Dropping Null values"
   ]
  },
  {
   "cell_type": "code",
   "execution_count": 4,
   "id": "90d66206",
   "metadata": {},
   "outputs": [
    {
     "name": "stdout",
     "output_type": "stream",
     "text": [
      "+-----+----+\n",
      "| Name| Age|\n",
      "+-----+----+\n",
      "| khan|  55|\n",
      "|hamza|  12|\n",
      "|kashi|null|\n",
      "| null|   9|\n",
      "|abbas|null|\n",
      "| sher|  22|\n",
      "+-----+----+\n",
      "\n"
     ]
    }
   ],
   "source": [
    "data=spark.read.csv(\"practice2.csv\",header=True,inferSchema=True)\n",
    "\n",
    "data.show()"
   ]
  },
  {
   "cell_type": "code",
   "execution_count": 76,
   "id": "b4343a97",
   "metadata": {},
   "outputs": [
    {
     "name": "stdout",
     "output_type": "stream",
     "text": [
      "+------+---+\n",
      "|  Name|Age|\n",
      "+------+---+\n",
      "|  khan| 55|\n",
      "| hamza| 12|\n",
      "|irfano|  9|\n",
      "|  sher| 22|\n",
      "+------+---+\n",
      "\n"
     ]
    }
   ],
   "source": [
    "#  how=\"all\"\n",
    "#  how=\"any\"\n",
    "#  data=data.na.drop(how=\"any\",thresh=2)\n",
    "#  thresh =2 means that out of dataset atleast 2 columns should be non null\n",
    "#  subset=['Age']  this will drop null sirf in the age column\n",
    "data=data.na.drop()\n",
    "data.show()"
   ]
  },
  {
   "cell_type": "markdown",
   "id": "42550659",
   "metadata": {},
   "source": [
    "# Filling Null Values"
   ]
  },
  {
   "cell_type": "code",
   "execution_count": 82,
   "id": "d53e0ee1",
   "metadata": {
    "scrolled": true
   },
   "outputs": [
    {
     "name": "stdout",
     "output_type": "stream",
     "text": [
      "+------+---+\n",
      "|  Name|Age|\n",
      "+------+---+\n",
      "|  khan| 55|\n",
      "| hamza| 12|\n",
      "| kashi|  2|\n",
      "|irfano|  9|\n",
      "| abbas|  2|\n",
      "|  sher| 22|\n",
      "+------+---+\n",
      "\n"
     ]
    }
   ],
   "source": [
    "#Filling Null in whole data set with 2\n",
    "\n",
    "data=data.na.fill(2)\n",
    "data.show()"
   ]
  },
  {
   "cell_type": "code",
   "execution_count": 110,
   "id": "c78e7309",
   "metadata": {
    "scrolled": true
   },
   "outputs": [
    {
     "name": "stdout",
     "output_type": "stream",
     "text": [
      "+------+---+\n",
      "|  Name|Age|\n",
      "+------+---+\n",
      "|  khan| 55|\n",
      "| hamza| 12|\n",
      "| kashi|  2|\n",
      "|irfano|  9|\n",
      "| abbas|  2|\n",
      "|  sher| 22|\n",
      "+------+---+\n",
      "\n"
     ]
    }
   ],
   "source": [
    "# Filling null values in age column with 2\n",
    "\n",
    "data=data.na.fill(2,[\"Age\"])\n",
    "data.show()"
   ]
  },
  {
   "cell_type": "code",
   "execution_count": 14,
   "id": "bc336e19",
   "metadata": {
    "scrolled": true
   },
   "outputs": [
    {
     "name": "stdout",
     "output_type": "stream",
     "text": [
      "+-----+----+\n",
      "| Name| Age|\n",
      "+-----+----+\n",
      "| khan|  55|\n",
      "|hamza|  12|\n",
      "|kashi|null|\n",
      "| null|   9|\n",
      "|abbas|null|\n",
      "| sher|  22|\n",
      "+-----+----+\n",
      "\n"
     ]
    }
   ],
   "source": [
    "data=spark.read.csv(\"practice2.csv\",header=True,inferSchema=True)\n",
    "\n",
    "data.show()"
   ]
  },
  {
   "cell_type": "markdown",
   "id": "15083d61",
   "metadata": {},
   "source": [
    "# Replacing Null with Mean Numerical Columns"
   ]
  },
  {
   "cell_type": "code",
   "execution_count": 125,
   "id": "08235404",
   "metadata": {},
   "outputs": [],
   "source": [
    "from pyspark.ml.feature import Imputer\n",
    "\n",
    "imputer = Imputer(\n",
    "    inputCols=['Age'], \n",
    "    outputCols=[\"{}_imputed\".format(c) for c in ['Age']]\n",
    "    ).setStrategy(\"mean\")"
   ]
  },
  {
   "cell_type": "code",
   "execution_count": 126,
   "id": "286b4845",
   "metadata": {
    "scrolled": false
   },
   "outputs": [
    {
     "name": "stdout",
     "output_type": "stream",
     "text": [
      "+------+----+-----------+\n",
      "|  Name| Age|Age_imputed|\n",
      "+------+----+-----------+\n",
      "|  khan|  55|         55|\n",
      "| hamza|  12|         12|\n",
      "| kashi|null|         24|\n",
      "|irfano|   9|          9|\n",
      "| abbas|null|         24|\n",
      "|  sher|  22|         22|\n",
      "+------+----+-----------+\n",
      "\n"
     ]
    }
   ],
   "source": [
    "# Add imputation cols to dataset\n",
    "\n",
    "imputer.fit(data).transform(data).show()"
   ]
  },
  {
   "cell_type": "markdown",
   "id": "68c733f9",
   "metadata": {},
   "source": [
    "# Replacing Null with Mean"
   ]
  },
  {
   "cell_type": "code",
   "execution_count": 19,
   "id": "ddd66c2b",
   "metadata": {},
   "outputs": [
    {
     "name": "stdout",
     "output_type": "stream",
     "text": [
      "+-----+---+\n",
      "| Name|Age|\n",
      "+-----+---+\n",
      "| khan| 55|\n",
      "|hamza| 12|\n",
      "|kashi| 24|\n",
      "| null|  9|\n",
      "|abbas| 24|\n",
      "| sher| 22|\n",
      "+-----+---+\n",
      "\n"
     ]
    }
   ],
   "source": [
    "from pyspark.sql.functions import mean\n",
    "from pyspark.sql.functions import col\n",
    "\n",
    "#Finding Mean value\n",
    "\n",
    "data_mean = data.select(mean(col('Age')).alias('avg')).collect()\n",
    "avg = data_mean[0]['avg']\n",
    "avg\n",
    "\n",
    "# Replacing Null with mean that is present in avg\n",
    "\n",
    "data= data.fillna(value=avg, subset=['Age'])\n",
    "data.show()\n"
   ]
  },
  {
   "cell_type": "code",
   "execution_count": null,
   "id": "f4cf087e",
   "metadata": {},
   "outputs": [],
   "source": []
  },
  {
   "cell_type": "markdown",
   "id": "0b85e126",
   "metadata": {},
   "source": [
    "# Filtering Data with some specific Conditions - Retrieving"
   ]
  },
  {
   "cell_type": "code",
   "execution_count": 157,
   "id": "a4aece64",
   "metadata": {
    "scrolled": true
   },
   "outputs": [
    {
     "name": "stdout",
     "output_type": "stream",
     "text": [
      "+------+---+------+\n",
      "|  Name|Age|Salary|\n",
      "+------+---+------+\n",
      "|  khan| 55|  3000|\n",
      "| hamza| 12|  4000|\n",
      "| kashi| 12|  3300|\n",
      "|irfano|  9|  5000|\n",
      "| abbas| 33|  5200|\n",
      "|  sher| 22|  3500|\n",
      "+------+---+------+\n",
      "\n"
     ]
    }
   ],
   "source": [
    "data=spark.read.csv(\"practice3.csv\",header=True,inferSchema=True)\n",
    "\n",
    "data.show()"
   ]
  },
  {
   "cell_type": "markdown",
   "id": "5bdc7e88",
   "metadata": {},
   "source": [
    "# way to print whole filter columns"
   ]
  },
  {
   "cell_type": "code",
   "execution_count": 129,
   "id": "ce51fd20",
   "metadata": {
    "scrolled": true
   },
   "outputs": [
    {
     "name": "stdout",
     "output_type": "stream",
     "text": [
      "+-----+---+------+\n",
      "| Name|Age|Salary|\n",
      "+-----+---+------+\n",
      "| khan| 55|  3000|\n",
      "|hamza| 12|  4000|\n",
      "|kashi| 12|  3300|\n",
      "| sher| 22|  3500|\n",
      "+-----+---+------+\n",
      "\n"
     ]
    }
   ],
   "source": [
    "data.filter(\"Salary<=4000\").show()"
   ]
  },
  {
   "cell_type": "markdown",
   "id": "919d607a",
   "metadata": {},
   "source": [
    "# way to print Specific filter columns"
   ]
  },
  {
   "cell_type": "code",
   "execution_count": 131,
   "id": "3b3ed9d2",
   "metadata": {
    "scrolled": true
   },
   "outputs": [
    {
     "name": "stdout",
     "output_type": "stream",
     "text": [
      "+-----+---+\n",
      "| Name|Age|\n",
      "+-----+---+\n",
      "| khan| 55|\n",
      "|hamza| 12|\n",
      "|kashi| 12|\n",
      "| sher| 22|\n",
      "+-----+---+\n",
      "\n"
     ]
    }
   ],
   "source": [
    "data.filter(\"Salary<=4000\").select([\"Name\",\"Age\"]).show()"
   ]
  },
  {
   "cell_type": "code",
   "execution_count": 133,
   "id": "018ea92c",
   "metadata": {
    "scrolled": true
   },
   "outputs": [
    {
     "name": "stdout",
     "output_type": "stream",
     "text": [
      "+-----+---+\n",
      "| Name|Age|\n",
      "+-----+---+\n",
      "| khan| 55|\n",
      "|hamza| 12|\n",
      "|kashi| 12|\n",
      "| sher| 22|\n",
      "+-----+---+\n",
      "\n"
     ]
    }
   ],
   "source": [
    "data.filter(data[\"Salary\"]<=4000).select([\"Name\",\"Age\"]).show()"
   ]
  },
  {
   "cell_type": "markdown",
   "id": "7a645afa",
   "metadata": {},
   "source": [
    "# Putting two Conditions"
   ]
  },
  {
   "cell_type": "code",
   "execution_count": 138,
   "id": "343fb934",
   "metadata": {},
   "outputs": [
    {
     "name": "stdout",
     "output_type": "stream",
     "text": [
      "+-----+---+\n",
      "| Name|Age|\n",
      "+-----+---+\n",
      "|hamza| 12|\n",
      "|kashi| 12|\n",
      "| sher| 22|\n",
      "+-----+---+\n",
      "\n"
     ]
    }
   ],
   "source": [
    "data.filter((data[\"Salary\"]<=4000) & (data[\"Age\"]<55)).select([\"Name\",\"Age\"]).show()"
   ]
  },
  {
   "cell_type": "markdown",
   "id": "de2c27ce",
   "metadata": {},
   "source": [
    "# Groupby Function in Retrieving"
   ]
  },
  {
   "cell_type": "code",
   "execution_count": 145,
   "id": "c286634d",
   "metadata": {},
   "outputs": [
    {
     "name": "stdout",
     "output_type": "stream",
     "text": [
      "+------+--------+-----------+\n",
      "|  Name|max(Age)|max(Salary)|\n",
      "+------+--------+-----------+\n",
      "| abbas|      33|       5200|\n",
      "|irfano|       9|       5000|\n",
      "| kashi|      12|       3300|\n",
      "| hamza|      12|       4000|\n",
      "|  khan|      55|       3000|\n",
      "|  sher|      22|       3500|\n",
      "+------+--------+-----------+\n",
      "\n"
     ]
    }
   ],
   "source": [
    "data.groupBy([\"Name\"]).max().show()"
   ]
  },
  {
   "cell_type": "code",
   "execution_count": 148,
   "id": "a73e4c63",
   "metadata": {
    "scrolled": false
   },
   "outputs": [
    {
     "name": "stdout",
     "output_type": "stream",
     "text": [
      "+------+-----+\n",
      "|  Name|count|\n",
      "+------+-----+\n",
      "| abbas|    1|\n",
      "|irfano|    1|\n",
      "| kashi|    1|\n",
      "| hamza|    1|\n",
      "|  khan|    1|\n",
      "|  sher|    1|\n",
      "+------+-----+\n",
      "\n"
     ]
    }
   ],
   "source": [
    "data.groupBy([\"Name\"]).count().show()"
   ]
  },
  {
   "cell_type": "markdown",
   "id": "22533df2",
   "metadata": {},
   "source": [
    "# Extracting Numerical Features"
   ]
  },
  {
   "cell_type": "code",
   "execution_count": null,
   "id": "65eedb0a",
   "metadata": {},
   "outputs": [],
   "source": [
    "numerical_cols = [c for c, t in data.dtypes if t !='string']\n",
    "numerical_cols"
   ]
  },
  {
   "cell_type": "code",
   "execution_count": null,
   "id": "d3370662",
   "metadata": {},
   "outputs": [],
   "source": []
  },
  {
   "cell_type": "markdown",
   "id": "799443ed",
   "metadata": {},
   "source": [
    "# Extracting String Columns"
   ]
  },
  {
   "cell_type": "code",
   "execution_count": null,
   "id": "bc5eda54",
   "metadata": {},
   "outputs": [],
   "source": [
    "string_cols = [c for c, t in data.dtypes if t =='string']\n",
    "string_cols"
   ]
  },
  {
   "cell_type": "markdown",
   "id": "35808d05",
   "metadata": {},
   "source": [
    "# Categorical to Numerical Conversion"
   ]
  },
  {
   "cell_type": "code",
   "execution_count": null,
   "id": "87b16165",
   "metadata": {},
   "outputs": [],
   "source": [
    "from pyspark.ml.feature import StringIndexer\n",
    "\n",
    "indexer=StringIndexer(inputCols=[\"sex\",\"smoker\",\"region\"],outputCols=[\"gender_cat\",\"smoker_cat\",\"region_cat\"])\n",
    "indexed=indexer.fit(data).transform(data)\n"
   ]
  },
  {
   "cell_type": "code",
   "execution_count": null,
   "id": "5325097f",
   "metadata": {},
   "outputs": [],
   "source": []
  },
  {
   "cell_type": "code",
   "execution_count": null,
   "id": "8790d10a",
   "metadata": {},
   "outputs": [],
   "source": []
  },
  {
   "cell_type": "code",
   "execution_count": null,
   "id": "bb46e527",
   "metadata": {},
   "outputs": [],
   "source": []
  },
  {
   "cell_type": "code",
   "execution_count": null,
   "id": "6273d4fc",
   "metadata": {},
   "outputs": [],
   "source": []
  },
  {
   "cell_type": "markdown",
   "id": "0e0388b1",
   "metadata": {},
   "source": [
    "# Exploratory Data Analysis to check NULL ETC VISUALLY"
   ]
  },
  {
   "cell_type": "code",
   "execution_count": 2,
   "id": "c3dd5119",
   "metadata": {
    "scrolled": true
   },
   "outputs": [
    {
     "name": "stdout",
     "output_type": "stream",
     "text": [
      "+-----+----+\n",
      "| Name| Age|\n",
      "+-----+----+\n",
      "| khan|  55|\n",
      "|hamza|  12|\n",
      "|kashi|null|\n",
      "| null|   9|\n",
      "|abbas|null|\n",
      "| sher|  22|\n",
      "+-----+----+\n",
      "\n"
     ]
    }
   ],
   "source": [
    "data=spark.read.csv(\"practice2.csv\",header=True,inferSchema=True)\n",
    "\n",
    "data.show()"
   ]
  },
  {
   "cell_type": "markdown",
   "id": "107d45a9",
   "metadata": {},
   "source": [
    "# Checking Nulls in columns Visually"
   ]
  },
  {
   "cell_type": "code",
   "execution_count": 7,
   "id": "984a91bb",
   "metadata": {},
   "outputs": [],
   "source": [
    "\n",
    "import matplotlib.pyplot as plt"
   ]
  },
  {
   "cell_type": "code",
   "execution_count": 22,
   "id": "c9f3dfb4",
   "metadata": {
    "scrolled": true
   },
   "outputs": [
    {
     "ename": "TypeError",
     "evalue": "'Column' object is not callable",
     "output_type": "error",
     "traceback": [
      "\u001b[1;31m---------------------------------------------------------------------------\u001b[0m",
      "\u001b[1;31mTypeError\u001b[0m                                 Traceback (most recent call last)",
      "\u001b[1;32m<ipython-input-22-4206aecc44c7>\u001b[0m in \u001b[0;36m<module>\u001b[1;34m\u001b[0m\n\u001b[0;32m      4\u001b[0m \u001b[1;33m\u001b[0m\u001b[0m\n\u001b[0;32m      5\u001b[0m \u001b[1;33m\u001b[0m\u001b[0m\n\u001b[1;32m----> 6\u001b[1;33m     \u001b[0mnull_value_list\u001b[0m\u001b[1;33m.\u001b[0m\u001b[0mappend\u001b[0m\u001b[1;33m(\u001b[0m\u001b[0mdata\u001b[0m\u001b[1;33m.\u001b[0m\u001b[0mfilter\u001b[0m\u001b[1;33m(\u001b[0m\u001b[0mdata\u001b[0m\u001b[1;33m[\u001b[0m\u001b[0mi\u001b[0m\u001b[1;33m]\u001b[0m\u001b[1;33m.\u001b[0m\u001b[0misNull\u001b[0m\u001b[1;33m(\u001b[0m\u001b[1;33m)\u001b[0m\u001b[1;33m.\u001b[0m\u001b[0mcount\u001b[0m\u001b[1;33m(\u001b[0m\u001b[1;33m)\u001b[0m\u001b[1;33m)\u001b[0m\u001b[1;33m)\u001b[0m\u001b[1;33m\u001b[0m\u001b[1;33m\u001b[0m\u001b[0m\n\u001b[0m\u001b[0;32m      7\u001b[0m \u001b[1;33m\u001b[0m\u001b[0m\n\u001b[0;32m      8\u001b[0m \u001b[0mplt\u001b[0m\u001b[1;33m.\u001b[0m\u001b[0mrcParams\u001b[0m\u001b[1;33m[\u001b[0m\u001b[1;34m\"figure.figsize\"\u001b[0m\u001b[1;33m]\u001b[0m \u001b[1;33m=\u001b[0m \u001b[1;33m(\u001b[0m\u001b[1;36m40\u001b[0m\u001b[1;33m,\u001b[0m\u001b[1;36m9\u001b[0m\u001b[1;33m)\u001b[0m\u001b[1;33m\u001b[0m\u001b[1;33m\u001b[0m\u001b[0m\n",
      "\u001b[1;31mTypeError\u001b[0m: 'Column' object is not callable"
     ]
    }
   ],
   "source": [
    "\n",
    "null_value_list = list()\n",
    "\n",
    "for i in data.columns:\n",
    "    \n",
    "    \n",
    "    null_value_list.append(data.filter(data[i].isNull().count()))\n",
    "    \n",
    "plt.rcParams[\"figure.figsize\"] = (40,9)\n",
    "columns = [i for i in data.columns]\n",
    "myexplode = [0.2, 0, 0, 0]\n",
    "\n",
    "plt.pie(null_value_list, labels = columns, explode = myexplode, shadow = True, autopct='%1.0f%%')\n",
    "plt.title('Total number of null value in column')\n",
    "plt.show()\n",
    "                       \n",
    "                           "
   ]
  },
  {
   "cell_type": "code",
   "execution_count": null,
   "id": "d48f30c2",
   "metadata": {},
   "outputs": [],
   "source": []
  },
  {
   "cell_type": "markdown",
   "id": "5c5bc1a9",
   "metadata": {},
   "source": [
    "# To check Duplicate Rows"
   ]
  },
  {
   "cell_type": "code",
   "execution_count": 23,
   "id": "a582e4b9",
   "metadata": {},
   "outputs": [
    {
     "name": "stdout",
     "output_type": "stream",
     "text": [
      "+----------+\n",
      "|sum(count)|\n",
      "+----------+\n",
      "|      null|\n",
      "+----------+\n",
      "\n"
     ]
    }
   ],
   "source": [
    "import pyspark.sql.functions as funcs\n",
    "data.groupBy(data.columns).count().where(funcs.col('count') > 1).select(funcs.sum('count')).show()"
   ]
  },
  {
   "cell_type": "markdown",
   "id": "1f51afe6",
   "metadata": {},
   "source": [
    "# Separating Numerical and Categorical Columns"
   ]
  },
  {
   "cell_type": "code",
   "execution_count": 25,
   "id": "d4bf7f8e",
   "metadata": {},
   "outputs": [
    {
     "name": "stdout",
     "output_type": "stream",
     "text": [
      "Numeric columns ['Age']\n",
      "categorical columns ['Name']\n"
     ]
    }
   ],
   "source": [
    "numeric_columns = list()\n",
    "categorical_column = list()\n",
    "for col_ in data.columns:\n",
    "    if data.select(col_).dtypes[0][1] != \"string\":\n",
    "        numeric_columns.append(col_)\n",
    "    else:\n",
    "        categorical_column.append(col_)\n",
    "        \n",
    "print(\"Numeric columns\",numeric_columns)\n",
    "print(\"categorical columns\",categorical_column)"
   ]
  },
  {
   "cell_type": "code",
   "execution_count": null,
   "id": "766052f2",
   "metadata": {},
   "outputs": [],
   "source": []
  },
  {
   "cell_type": "markdown",
   "id": "6fe03693",
   "metadata": {},
   "source": [
    "# Data preprocessing’s"
   ]
  },
  {
   "cell_type": "markdown",
   "id": "ec34ec70",
   "metadata": {},
   "source": [
    " - Checking Nulls in Columns"
   ]
  },
  {
   "cell_type": "code",
   "execution_count": 26,
   "id": "59d09587",
   "metadata": {},
   "outputs": [
    {
     "name": "stdout",
     "output_type": "stream",
     "text": [
      "+----+---+\n",
      "|Name|Age|\n",
      "+----+---+\n",
      "|   1|  2|\n",
      "+----+---+\n",
      "\n",
      "None\n"
     ]
    }
   ],
   "source": [
    "from pyspark.sql.functions import *\n",
    "print(data.select([count(when(isnan(c) | col(c).isNull(), c)).alias(c) for c in data.columns]).show())"
   ]
  },
  {
   "cell_type": "markdown",
   "id": "b54db60c",
   "metadata": {},
   "source": [
    "- Dropping Nulls"
   ]
  },
  {
   "cell_type": "code",
   "execution_count": 28,
   "id": "7bbea614",
   "metadata": {},
   "outputs": [
    {
     "name": "stdout",
     "output_type": "stream",
     "text": [
      "+-----+---+\n",
      "| Name|Age|\n",
      "+-----+---+\n",
      "| khan| 55|\n",
      "|hamza| 12|\n",
      "| sher| 22|\n",
      "+-----+---+\n",
      "\n"
     ]
    }
   ],
   "source": [
    "dataframe = data.dropna()\n",
    "dataframe.show()"
   ]
  },
  {
   "cell_type": "markdown",
   "id": "528ef209",
   "metadata": {},
   "source": [
    "# - Handle missing value with imputation"
   ]
  },
  {
   "cell_type": "markdown",
   "id": "24d01f12",
   "metadata": {},
   "source": [
    "-      For numeric column\n",
    "\n",
    "- Mean imputation\n",
    "- Median imputation\n",
    "- Mode imputation\n",
    "\n"
   ]
  },
  {
   "cell_type": "markdown",
   "id": "64415f52",
   "metadata": {},
   "source": [
    "+ For categorical column\n",
    "\n",
    "- Frequent category imputation"
   ]
  },
  {
   "cell_type": "code",
   "execution_count": null,
   "id": "b2a2a1e9",
   "metadata": {},
   "outputs": [],
   "source": []
  },
  {
   "cell_type": "markdown",
   "id": "d13b3071",
   "metadata": {},
   "source": [
    "- Handle missing value with MEAN"
   ]
  },
  {
   "cell_type": "code",
   "execution_count": 51,
   "id": "61f2f517",
   "metadata": {},
   "outputs": [
    {
     "name": "stdout",
     "output_type": "stream",
     "text": [
      "+-----+---+\n",
      "| Name|Age|\n",
      "+-----+---+\n",
      "| khan| 55|\n",
      "|hamza| 12|\n",
      "|kashi| 24|\n",
      "| null|  9|\n",
      "|abbas| 24|\n",
      "| sher| 22|\n",
      "+-----+---+\n",
      "\n"
     ]
    }
   ],
   "source": [
    "from pyspark.ml.feature import Imputer\n",
    "\n",
    "column_subset = [col_ for col_ in data.columns if data.select(col_).dtypes[0][1] !=\"string\"]\n",
    "\n",
    "imputer = Imputer(inputCols=column_subset, outputCols=[col_ for col_ in column_subset]).setStrategy(\"mean\")\n",
    "\n",
    "data = imputer.fit(data).transform(data)\n",
    "\n",
    "data.show()"
   ]
  },
  {
   "cell_type": "markdown",
   "id": "4a2098f8",
   "metadata": {},
   "source": [
    "- Handle missing value with Median"
   ]
  },
  {
   "cell_type": "code",
   "execution_count": 33,
   "id": "a3a0a655",
   "metadata": {},
   "outputs": [
    {
     "name": "stdout",
     "output_type": "stream",
     "text": [
      "+-----+---+\n",
      "| Name|Age|\n",
      "+-----+---+\n",
      "| khan| 55|\n",
      "|hamza| 12|\n",
      "|kashi| 12|\n",
      "| null|  9|\n",
      "|abbas| 12|\n",
      "| sher| 22|\n",
      "+-----+---+\n",
      "\n"
     ]
    }
   ],
   "source": [
    "from pyspark.ml.feature import Imputer\n",
    "\n",
    "column_subset = [col_ for col_ in data.columns if data.select(col_).dtypes[0][1] !=\"string\"]\n",
    "\n",
    "imputer = Imputer(inputCols=column_subset, outputCols=[col_ for col_ in column_subset]).setStrategy(\"median\")\n",
    "\n",
    "data = imputer.fit(data).transform(data)\n",
    "\n",
    "data.show()"
   ]
  },
  {
   "cell_type": "markdown",
   "id": "21df4211",
   "metadata": {},
   "source": [
    "- Handle missing value with Mode"
   ]
  },
  {
   "cell_type": "code",
   "execution_count": 36,
   "id": "d067371e",
   "metadata": {},
   "outputs": [
    {
     "name": "stdout",
     "output_type": "stream",
     "text": [
      "+-----+---+\n",
      "| Name|Age|\n",
      "+-----+---+\n",
      "| khan| 55|\n",
      "|hamza| 12|\n",
      "|kashi| 12|\n",
      "| null|  9|\n",
      "|abbas| 12|\n",
      "| sher| 22|\n",
      "+-----+---+\n",
      "\n"
     ]
    }
   ],
   "source": [
    "column_subset = [col_ for col_ in data.columns if data.select(col_).dtypes[0][1] !=\"string\"]\n",
    "for col_ in column_subset:\n",
    "    temp_col = data.groupBy(col_).count()\n",
    "    temp_col = temp_col.dropna(subset=col_)\n",
    "    mode = temp_col.orderBy(temp_col['count'].desc()).collect()[0]  [0]\n",
    "    data= data.fillna(mode, subset=col_)\n",
    "data.show()"
   ]
  },
  {
   "cell_type": "code",
   "execution_count": null,
   "id": "22b2e4b3",
   "metadata": {},
   "outputs": [],
   "source": []
  },
  {
   "cell_type": "markdown",
   "id": "321ac190",
   "metadata": {},
   "source": [
    "- For categorical column    Frequent category imputation"
   ]
  },
  {
   "cell_type": "code",
   "execution_count": 52,
   "id": "7726e0a3",
   "metadata": {},
   "outputs": [
    {
     "name": "stdout",
     "output_type": "stream",
     "text": [
      "+-----+---+\n",
      "| Name|Age|\n",
      "+-----+---+\n",
      "| khan| 55|\n",
      "|hamza| 12|\n",
      "|kashi| 24|\n",
      "|abbas|  9|\n",
      "|abbas| 24|\n",
      "| sher| 22|\n",
      "+-----+---+\n",
      "\n"
     ]
    }
   ],
   "source": [
    "column_subset = [col_ for col_ in data.columns if data.select(col_).dtypes[0][1] ==\"string\"]\n",
    "\n",
    "for col_ in column_subset:\n",
    "    temp_col = data.groupBy(col_).count()\n",
    "    temp_col = temp_col.dropna(subset=col_)\n",
    "    frequent_category=temp_col.orderBy(temp_col['count'].desc()).collect()[0][0]\n",
    "    \n",
    "    data = data.fillna(frequent_category, subset=col_)\n",
    "data.show()"
   ]
  },
  {
   "cell_type": "markdown",
   "id": "e1a8c79b",
   "metadata": {},
   "source": [
    "# Outlier Detection and Removal Using IQR"
   ]
  },
  {
   "cell_type": "markdown",
   "id": "8de4d653",
   "metadata": {},
   "source": [
    "- Outlier Detection"
   ]
  },
  {
   "cell_type": "code",
   "execution_count": 45,
   "id": "f01fe717",
   "metadata": {},
   "outputs": [
    {
     "name": "stdout",
     "output_type": "stream",
     "text": [
      "+----+---+\n",
      "|Name|Age|\n",
      "+----+---+\n",
      "|khan| 55|\n",
      "+----+---+\n",
      "\n"
     ]
    }
   ],
   "source": [
    "for col_ in data.columns:\n",
    "    if data.select(col_).dtypes[0][1]==\"string\":\n",
    "        pass\n",
    "    else:\n",
    "        q1,q3 = data.approxQuantile(col_,[0.25, 0.75],0) \n",
    "        IQR = q3 - q1\n",
    "        lower_bound = q1 - (1.5*IQR)\n",
    "        upper_bound = q3 + (1.5*IQR)\n",
    "        data= data.filter((data[col_]<lower_bound) |  (data[col_]>upper_bound))\n",
    "data.show()"
   ]
  },
  {
   "cell_type": "markdown",
   "id": "18dab004",
   "metadata": {},
   "source": [
    "- Removing Outlier"
   ]
  },
  {
   "cell_type": "code",
   "execution_count": 54,
   "id": "4b355397",
   "metadata": {
    "scrolled": true
   },
   "outputs": [
    {
     "name": "stdout",
     "output_type": "stream",
     "text": [
      "+-----+---+\n",
      "| Name|Age|\n",
      "+-----+---+\n",
      "|hamza| 12|\n",
      "|kashi| 24|\n",
      "|abbas|  9|\n",
      "|abbas| 24|\n",
      "| sher| 22|\n",
      "+-----+---+\n",
      "\n"
     ]
    }
   ],
   "source": [
    "for col_ in data.columns:\n",
    "    if data.select(col_).dtypes[0][1]==\"string\":\n",
    "        pass\n",
    "    else:\n",
    "        q1,q3 = data.approxQuantile(col_,[0.25, 0.75],0) \n",
    "        IQR = q3 - q1\n",
    "        lower_bound = q1 - (1.5*IQR)\n",
    "        upper_bound = q3 + (1.5*IQR)\n",
    "        data = data.filter((data[col_]>lower_bound) & (data[col_]<upper_bound))\n",
    "data.show()"
   ]
  },
  {
   "cell_type": "markdown",
   "id": "b9171f6d",
   "metadata": {},
   "source": [
    "# Drop Duplicate Rows"
   ]
  },
  {
   "cell_type": "code",
   "execution_count": 3,
   "id": "e0a65386",
   "metadata": {},
   "outputs": [
    {
     "name": "stdout",
     "output_type": "stream",
     "text": [
      "+-----+----+\n",
      "| Name| Age|\n",
      "+-----+----+\n",
      "|hamza|  12|\n",
      "| sher|  22|\n",
      "|abbas|null|\n",
      "|kashi|null|\n",
      "| khan|  55|\n",
      "| null|   9|\n",
      "+-----+----+\n",
      "\n"
     ]
    }
   ],
   "source": [
    "data=data.dropDuplicates()\n",
    "data.show()"
   ]
  },
  {
   "cell_type": "code",
   "execution_count": null,
   "id": "342d3e02",
   "metadata": {},
   "outputs": [],
   "source": []
  },
  {
   "cell_type": "code",
   "execution_count": 4,
   "id": "388c8454",
   "metadata": {},
   "outputs": [
    {
     "name": "stdout",
     "output_type": "stream",
     "text": [
      "Features scaled to range: [0.000000, 1.000000]\n",
      "+--------------+--------------+\n",
      "|      features|scaledFeatures|\n",
      "+--------------+--------------+\n",
      "|[1.0,0.1,-1.0]|     (3,[],[])|\n",
      "| [2.0,1.1,1.0]| [0.5,0.1,0.5]|\n",
      "|[3.0,10.1,3.0]| [1.0,1.0,1.0]|\n",
      "+--------------+--------------+\n",
      "\n"
     ]
    }
   ],
   "source": [
    "from pyspark.ml.feature import MinMaxScaler\n",
    "from pyspark.ml.linalg import Vectors\n",
    "\n",
    "scaler = MinMaxScaler(inputCol=\"features\", outputCol=\"scaledFeatures\")\n",
    "\n",
    "# Compute summary statistics and generate MinMaxScalerModel\n",
    "scalerModel = scaler.fit(dataFrame)\n",
    "\n",
    "# rescale each feature to range [min, max].\n",
    "scaledData = scalerModel.transform(dataFrame)\n",
    "print(\"Features scaled to range: [%f, %f]\" % (scaler.getMin(), scaler.getMax()))\n",
    "scaledData.select(\"features\", \"scaledFeatures\").show()"
   ]
  },
  {
   "cell_type": "code",
   "execution_count": null,
   "id": "4ec3ca77",
   "metadata": {},
   "outputs": [],
   "source": [
    "scaledData.select(\"scaledFeatures\").show(5, truncate=False)"
   ]
  },
  {
   "cell_type": "code",
   "execution_count": null,
   "id": "6242a235",
   "metadata": {},
   "outputs": [],
   "source": []
  },
  {
   "cell_type": "code",
   "execution_count": null,
   "id": "8d2fdaa4",
   "metadata": {},
   "outputs": [],
   "source": []
  },
  {
   "cell_type": "code",
   "execution_count": null,
   "id": "a8aadc98",
   "metadata": {},
   "outputs": [],
   "source": []
  },
  {
   "cell_type": "code",
   "execution_count": null,
   "id": "c279a329",
   "metadata": {},
   "outputs": [],
   "source": []
  },
  {
   "cell_type": "code",
   "execution_count": null,
   "id": "daeca9bb",
   "metadata": {},
   "outputs": [],
   "source": []
  },
  {
   "cell_type": "code",
   "execution_count": null,
   "id": "3052a186",
   "metadata": {},
   "outputs": [],
   "source": []
  },
  {
   "cell_type": "markdown",
   "id": "ec123557",
   "metadata": {},
   "source": [
    "# Code for checking Distribution"
   ]
  },
  {
   "cell_type": "code",
   "execution_count": 188,
   "id": "3e4c46f2",
   "metadata": {},
   "outputs": [
    {
     "data": {
      "image/png": "[encoded data removed]",
      "text/plain": [
       "<Figure size 1800x1080 with 2 Axes>"
      ]
     },
     "metadata": {
      "needs_background": "light"
     },
     "output_type": "display_data"
    }
   ],
   "source": [
    "import matplotlib.pyplot as plt\n",
    "import seaborn as sns\n",
    "fig = plt.figure(figsize=(25, 15))\n",
    "st = fig.suptitle(\"Distribution of Features\", fontsize=50, verticalalignment=\"center\")\n",
    "for col, num in zip(data.toPandas().describe().columns, range(1,11)):\n",
    "  ax = fig.add_subplot(3,4, num)\n",
    "  ax.hist(data.toPandas()[col])\n",
    "  plt.grid(False)\n",
    "  plt.xticks(rotation=45, fontsize=20)\n",
    "  plt.yticks(fontsize=15)\n",
    "  plt.title(col.upper(), fontsize=20)\n",
    "\n",
    "plt.tight_layout()\n",
    "st.set_y(0.95)\n",
    "fig.subplots_adjust(top=0.85, hspace=0.4)\n",
    "plt.show()"
   ]
  },
  {
   "cell_type": "code",
   "execution_count": null,
   "id": "07d69ccc",
   "metadata": {},
   "outputs": [],
   "source": []
  }
 ],
 "metadata": {
  "kernelspec": {
   "display_name": "Python 3",
   "language": "python",
   "name": "python3"
  },
  "language_info": {
   "codemirror_mode": {
    "name": "ipython",
    "version": 3
   },
   "file_extension": ".py",
   "mimetype": "text/x-python",
   "name": "python",
   "nbconvert_exporter": "python",
   "pygments_lexer": "ipython3",
   "version": "3.8.8"
  }
 },
 "nbformat": 4,
 "nbformat_minor": 5
}
